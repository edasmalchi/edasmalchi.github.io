{
 "cells": [
  {
   "cell_type": "code",
   "execution_count": 2,
   "id": "6b72f8ac-f742-4a60-b2ac-afb5e93457fe",
   "metadata": {},
   "outputs": [],
   "source": [
    "import geopandas as gpd\n",
    "import pandas as pd\n",
    "import folium\n",
    "import random\n",
    "import shapely\n",
    "import xyzservices.providers as xyz\n",
    "from folium import plugins\n",
    "import os\n",
    "import branca"
   ]
  },
  {
   "cell_type": "code",
   "execution_count": 3,
   "id": "236c49c5-1115-4caa-a4e0-a2dd88690eed",
   "metadata": {},
   "outputs": [],
   "source": [
    "gdf = gpd.read_file('./locations.geojsonl.json').rename(columns={'fid':'photo_id'})\n",
    "\n",
    "gdf = gdf.to_crs('EPSG:3310')"
   ]
  },
  {
   "cell_type": "code",
   "execution_count": 8,
   "id": "3c1c6fbb-be1d-428d-a2a6-39462a0d672f",
   "metadata": {},
   "outputs": [],
   "source": [
    "#Add the Stadia Maps Stamen Toner provider details via xyzservices\n",
    "tile_provider = xyz.Stadia.StamenTonerLite\n",
    "\n",
    "#Update the URL to include the API key placeholder\n",
    "# tile_provider[\"url\"] = tile_provider[\"url\"] + f\"?api_key={os.environ['STADIA_API_KEY']}\"\n",
    "\n",
    "#(api_key=os.environ[\"STADIA_API_KEY\"])\n",
    "\n",
    "#Create the folium TileLayer, specifying the API key\n",
    "stamen = folium.TileLayer(\n",
    "    tiles=tile_provider.build_url(),\n",
    "    attr=tile_provider.attribution,\n",
    "    name=tile_provider.name,\n",
    "    max_zoom=tile_provider.max_zoom,\n",
    "    detect_retina=True\n",
    ")"
   ]
  },
  {
   "cell_type": "code",
   "execution_count": 9,
   "id": "a73dc1c4-de95-4261-a186-47a530d8230f",
   "metadata": {},
   "outputs": [],
   "source": [
    "def buffer_map(gdf, col, cmap):\n",
    "    gdf = gdf.copy()\n",
    "    gdf.geometry = gdf.buffer(15)\n",
    "    m = gdf.explore(column = col, cmap = cmap,\n",
    "    tiles = stamen,\n",
    "    style_kwds={'fillOpacity': 1})\n",
    "    plugins.Fullscreen(\n",
    "    position=\"topright\",\n",
    "    title=\"Expand me\",\n",
    "    title_cancel=\"Exit me\",\n",
    "    force_separate_button=True,\n",
    ").add_to(m)\n",
    "\n",
    "    return m"
   ]
  },
  {
   "cell_type": "code",
   "execution_count": 10,
   "id": "2281a5cc-df05-4bf0-b91b-dd8549a656b7",
   "metadata": {},
   "outputs": [],
   "source": [
    "m_all = buffer_map(gdf, 'points', branca.colormap.step.Dark2_04.scale(vmax=4, vmin=1))"
   ]
  },
  {
   "cell_type": "code",
   "execution_count": 11,
   "id": "80bf3a1d-d3e5-4f7f-9ebf-28253736fd01",
   "metadata": {},
   "outputs": [],
   "source": [
    "m_all.save('map_all.html')"
   ]
  },
  {
   "cell_type": "code",
   "execution_count": 12,
   "id": "6b54ab65-180b-47ad-9070-2c8042e73d0b",
   "metadata": {},
   "outputs": [
    {
     "data": {
      "text/plain": [
       "'0.19.5'"
      ]
     },
     "execution_count": 12,
     "metadata": {},
     "output_type": "execute_result"
    }
   ],
   "source": [
    "folium.__version__"
   ]
  },
  {
   "cell_type": "markdown",
   "id": "227e09ed-bc96-4f01-8250-59f78c37a46d",
   "metadata": {},
   "source": [
    "## Team Results"
   ]
  },
  {
   "cell_type": "code",
   "execution_count": 13,
   "id": "8f20a9aa-40f6-4bea-8fcb-96037c11d1b0",
   "metadata": {},
   "outputs": [],
   "source": [
    "teams = [f'team_{i}' for i in range(1,5)]"
   ]
  },
  {
   "cell_type": "code",
   "execution_count": 14,
   "id": "dcf46175-510a-49b6-be10-009da362a3de",
   "metadata": {},
   "outputs": [
    {
     "data": {
      "text/plain": [
       "['team_1', 'team_2', 'team_3', 'team_4']"
      ]
     },
     "execution_count": 14,
     "metadata": {},
     "output_type": "execute_result"
    }
   ],
   "source": [
    "teams"
   ]
  },
  {
   "cell_type": "code",
   "execution_count": 15,
   "id": "11844869-4b67-47ff-9409-bd1b3e3a70a5",
   "metadata": {},
   "outputs": [],
   "source": [
    "def read_team(path, team):\n",
    "    cols = ['team_id', 'photo_id', 'timestamp']\n",
    "    df = pd.read_excel(path, sheet_name=team)[cols]\n",
    "    return df.query('photo_id != 99')"
   ]
  },
  {
   "cell_type": "code",
   "execution_count": 16,
   "id": "734f7bb1-6ec4-4e96-b0ea-425371387f9e",
   "metadata": {},
   "outputs": [
    {
     "data": {
      "text/html": [
       "<div>\n",
       "<style scoped>\n",
       "    .dataframe tbody tr th:only-of-type {\n",
       "        vertical-align: middle;\n",
       "    }\n",
       "\n",
       "    .dataframe tbody tr th {\n",
       "        vertical-align: top;\n",
       "    }\n",
       "\n",
       "    .dataframe thead th {\n",
       "        text-align: right;\n",
       "    }\n",
       "</style>\n",
       "<table border=\"1\" class=\"dataframe\">\n",
       "  <thead>\n",
       "    <tr style=\"text-align: right;\">\n",
       "      <th></th>\n",
       "      <th>team_id</th>\n",
       "      <th>photo_id</th>\n",
       "      <th>timestamp</th>\n",
       "    </tr>\n",
       "  </thead>\n",
       "  <tbody>\n",
       "    <tr>\n",
       "      <th>0</th>\n",
       "      <td>1</td>\n",
       "      <td>11</td>\n",
       "      <td>13:54:08.739000</td>\n",
       "    </tr>\n",
       "    <tr>\n",
       "      <th>1</th>\n",
       "      <td>1</td>\n",
       "      <td>1</td>\n",
       "      <td>13:54:08.739000</td>\n",
       "    </tr>\n",
       "    <tr>\n",
       "      <th>2</th>\n",
       "      <td>1</td>\n",
       "      <td>34</td>\n",
       "      <td>14:48:23.207000</td>\n",
       "    </tr>\n",
       "  </tbody>\n",
       "</table>\n",
       "</div>"
      ],
      "text/plain": [
       "   team_id  photo_id        timestamp\n",
       "0        1        11  13:54:08.739000\n",
       "1        1         1  13:54:08.739000\n",
       "2        1        34  14:48:23.207000"
      ]
     },
     "execution_count": 16,
     "metadata": {},
     "output_type": "execute_result"
    }
   ],
   "source": [
    "read_team('./photo_scoring.xlsx', 'team_1')"
   ]
  },
  {
   "cell_type": "code",
   "execution_count": 17,
   "id": "6c77ef5a-f63e-42d1-9c7a-dc67b570c271",
   "metadata": {},
   "outputs": [],
   "source": [
    "all_teams = pd.concat([read_team('./photo_scoring.xlsx', team) for team in teams])"
   ]
  },
  {
   "cell_type": "markdown",
   "id": "337b89e2-43d9-42a8-a31f-3a9a21ba17b6",
   "metadata": {},
   "source": [
    "### nobody found these"
   ]
  },
  {
   "cell_type": "code",
   "execution_count": 18,
   "id": "d938a3ad-0f3c-4b8c-a693-2d5d72473e82",
   "metadata": {
    "scrolled": true
   },
   "outputs": [],
   "source": [
    "buffer_map(gdf.query('~ photo_id.isin(@all_teams.photo_id)'), 'points', branca.colormap.step.Dark2_04.scale(vmax=4, vmin=1)).save('nobody.html')"
   ]
  },
  {
   "cell_type": "markdown",
   "id": "75058cd0-b28a-4c73-8e06-5b3993e4af8f",
   "metadata": {},
   "source": [
    "### popular spots"
   ]
  },
  {
   "cell_type": "code",
   "execution_count": 19,
   "id": "cb04c7b9-d6e9-4b7e-927a-66740205e7db",
   "metadata": {},
   "outputs": [],
   "source": [
    "popular = (all_teams.groupby('photo_id')\n",
    " .count()\n",
    " .reset_index()\n",
    " .rename(columns={'team_id':'team_count'})\n",
    " .sort_values('team_count', ascending=False)\n",
    " [['photo_id', 'team_count']])"
   ]
  },
  {
   "cell_type": "code",
   "execution_count": 20,
   "id": "53f60797-4d9e-46d6-b64c-963804d2b44d",
   "metadata": {
    "scrolled": true
   },
   "outputs": [],
   "source": [
    "buffer_map(gdf.merge(popular, on=['photo_id']), 'team_count', branca.colormap.step.YlOrRd_04.scale(vmax=4, vmin=1)).save('popular.html')"
   ]
  },
  {
   "cell_type": "markdown",
   "id": "b4b112d3-887d-438c-9bd4-7f0dc3ce2d67",
   "metadata": {},
   "source": [
    "## all_teams"
   ]
  },
  {
   "cell_type": "code",
   "execution_count": 21,
   "id": "c75befbb-ca5d-4882-bca9-f22d81250dd7",
   "metadata": {},
   "outputs": [],
   "source": [
    "teams_merged = gdf.merge(all_teams, on='photo_id')"
   ]
  },
  {
   "cell_type": "code",
   "execution_count": 22,
   "id": "32c1570d-10cd-45a3-b338-c85cd2bbeb09",
   "metadata": {},
   "outputs": [
    {
     "data": {
      "text/plain": [
       "0.9357232612362972"
      ]
     },
     "execution_count": 22,
     "metadata": {},
     "output_type": "execute_result"
    }
   ],
   "source": [
    "random.random()"
   ]
  },
  {
   "cell_type": "code",
   "execution_count": 23,
   "id": "14b6f749-e951-45c3-a3f0-c6d6035c57a1",
   "metadata": {},
   "outputs": [],
   "source": [
    "def jitter(row):\n",
    "    \n",
    "    max_jitter = 20\n",
    "    chs_x = 1 if random.random() < 0.5 else -1\n",
    "    chs_y = 1 if random.random() < 0.5 else -1\n",
    "    new_x = row.geometry.x + (max_jitter*random.random() * chs_x)\n",
    "    new_y = row.geometry.y + (max_jitter*random.random() * chs_y)\n",
    "    row.geometry = shapely.Point(new_x, new_y)\n",
    "\n",
    "    return row"
   ]
  },
  {
   "cell_type": "code",
   "execution_count": 24,
   "id": "3a9883de-41d6-46d8-bb2b-b5d1a3c9e094",
   "metadata": {},
   "outputs": [],
   "source": [
    "buffer_map(teams_merged.apply(jitter, axis=1), 'team_id',\n",
    "           branca.colormap.step.Spectral_04.scale(vmax=4, vmin=1)).save('all_teams.html')"
   ]
  }
 ],
 "metadata": {
  "kernelspec": {
   "display_name": "Python 3 (ipykernel)",
   "language": "python",
   "name": "python3"
  },
  "language_info": {
   "codemirror_mode": {
    "name": "ipython",
    "version": 3
   },
   "file_extension": ".py",
   "mimetype": "text/x-python",
   "name": "python",
   "nbconvert_exporter": "python",
   "pygments_lexer": "ipython3",
   "version": "3.13.2"
  }
 },
 "nbformat": 4,
 "nbformat_minor": 5
}
